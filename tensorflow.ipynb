{
  "nbformat": 4,
  "nbformat_minor": 0,
  "metadata": {
    "colab": {
      "name": "tensorflow.ipynb",
      "provenance": []
    },
    "kernelspec": {
      "name": "python3",
      "display_name": "Python 3"
    },
    "language_info": {
      "name": "python"
    }
  },
  "cells": [
    {
      "cell_type": "code",
      "metadata": {
        "id": "ARznGpGc6Keg"
      },
      "source": [
        "import tensorflow\n",
        "from tensorflow import keras\n",
        "import matplotlib.pyplot as plt\n",
        "import numpy as np\n",
        "from tensorflow.keras.models import load_model"
      ],
      "execution_count": 36,
      "outputs": []
    },
    {
      "cell_type": "code",
      "metadata": {
        "id": "r2HqLG1e6RzA"
      },
      "source": [
        "dataset = keras.datasets.fashion_mnist\n",
        "((imagens_treino, identificacoes_treino), (imagens_teste, identificacoes_teste)) = dataset.load_data()"
      ],
      "execution_count": 37,
      "outputs": []
    },
    {
      "cell_type": "code",
      "metadata": {
        "colab": {
          "base_uri": "https://localhost:8080/",
          "height": 282
        },
        "id": "iq3L__cA6URU",
        "outputId": "88b09fdf-522d-419d-b082-0c6f0442908d"
      },
      "source": [
        "len(imagens_treino)\n",
        "imagens_treino.shape\n",
        "imagens_teste.shape\n",
        "len(identificacoes_teste)\n",
        "plt.imshow(imagens_treino[0])"
      ],
      "execution_count": 38,
      "outputs": [
        {
          "output_type": "execute_result",
          "data": {
            "text/plain": [
              "<matplotlib.image.AxesImage at 0x7f4aaf0cc390>"
            ]
          },
          "metadata": {
            "tags": []
          },
          "execution_count": 38
        },
        {
          "output_type": "display_data",
          "data": {
            "image/png": "[encoded data removed]",
            "text/plain": [
              "<Figure size 432x288 with 1 Axes>"
            ]
          },
          "metadata": {
            "tags": [],
            "needs_background": "light"
          }
        }
      ]
    },
    {
      "cell_type": "code",
      "metadata": {
        "colab": {
          "base_uri": "https://localhost:8080/"
        },
        "id": "UosMu4Du6f8z",
        "outputId": "c486312b-e483-45ce-d26f-cd0d7d7434b8"
      },
      "source": [
        "len(imagens_treino)\n",
        "imagens_treino.shape\n",
        "imagens_teste.shape\n",
        "len(identificacoes_teste)\n",
        "identificacoes_treino.min()\n",
        "identificacoes_treino.max()"
      ],
      "execution_count": 39,
      "outputs": [
        {
          "output_type": "execute_result",
          "data": {
            "text/plain": [
              "9"
            ]
          },
          "metadata": {
            "tags": []
          },
          "execution_count": 39
        }
      ]
    },
    {
      "cell_type": "code",
      "metadata": {
        "colab": {
          "base_uri": "https://localhost:8080/",
          "height": 282
        },
        "id": "IUTlGtG265nz",
        "outputId": "d08e5167-4f43-40f8-d778-bf997fd2cc91"
      },
      "source": [
        "total_de_classificacoes = 10\n",
        "nomes_de_classificacoes = ['Camiseta', 'Calça', 'Pullover', \n",
        "                           'Vestido', 'Casaco', 'Sandália', 'Camisa',\n",
        "                           'Tênis', 'Bolsa', 'Bota']\n",
        "\n",
        "plt.imshow(imagens_treino[0])\n",
        "plt.colorbar()"
      ],
      "execution_count": 40,
      "outputs": [
        {
          "output_type": "execute_result",
          "data": {
            "text/plain": [
              "<matplotlib.colorbar.Colorbar at 0x7f4aaf08c8d0>"
            ]
          },
          "metadata": {
            "tags": []
          },
          "execution_count": 40
        },
        {
          "output_type": "display_data",
          "data": {
            "image/png": "[encoded data removed]",
            "text/plain": [
              "<Figure size 432x288 with 2 Axes>"
            ]
          },
          "metadata": {
            "tags": [],
            "needs_background": "light"
          }
        }
      ]
    },
    {
      "cell_type": "code",
      "metadata": {
        "id": "P_41S65D6-4K"
      },
      "source": [
        "imagens_treino = imagens_treino/float(255)"
      ],
      "execution_count": 41,
      "outputs": []
    },
    {
      "cell_type": "code",
      "metadata": {
        "colab": {
          "base_uri": "https://localhost:8080/"
        },
        "id": "NsBj1vvp7LQM",
        "outputId": "be4259c5-0b36-4d27-e3da-abcaa9ab21d5"
      },
      "source": [
        "modelo = keras.Sequential([ \n",
        "    keras.layers.Flatten(input_shape=(28, 28)),\n",
        "    keras.layers.Dense(256, activation=tensorflow.nn.relu),\n",
        "    keras.layers.Dropout(0.2),\n",
        "    keras.layers.Dense(10, activation=tensorflow.nn.softmax)\n",
        "])\n",
        "\n",
        "adam = keras.optimizers.Adam(lr=0.002)\n",
        "\n",
        "'''lr\n",
        "learning rate\n",
        "taxa de aprendizado'''\n",
        "\n",
        "parando_cedo = [keras.callbacks.EarlyStopping(monitor='val_loss'),\n",
        "                keras.callbacks.ModelCheckpoint(filepath='melhor_modelo.hdf5',\n",
        "                                               monitor='val_loss', save_best_only=True)]\n",
        "\n",
        "modelo.compile(optimizer=adam, \n",
        "               loss='sparse_categorical_crossentropy',\n",
        "               metrics=['accuracy'])\n",
        "\n",
        "historico = modelo.fit(imagens_treino, identificacoes_treino, \n",
        "                       batch_size = 480,\n",
        "                       epochs=5, validation_split=0.2,\n",
        "                       callbacks=parando_cedo)"
      ],
      "execution_count": 42,
      "outputs": [
        {
          "output_type": "stream",
          "text": [
            "Epoch 1/5\n",
            "100/100 [==============================] - 2s 13ms/step - loss: 0.9626 - accuracy: 0.6616 - val_loss: 0.4607 - val_accuracy: 0.8363\n",
            "Epoch 2/5\n",
            "100/100 [==============================] - 1s 10ms/step - loss: 0.4646 - accuracy: 0.8387 - val_loss: 0.4065 - val_accuracy: 0.8577\n",
            "Epoch 3/5\n",
            "100/100 [==============================] - 1s 11ms/step - loss: 0.3990 - accuracy: 0.8587 - val_loss: 0.3775 - val_accuracy: 0.8636\n",
            "Epoch 4/5\n",
            "100/100 [==============================] - 1s 11ms/step - loss: 0.3671 - accuracy: 0.8698 - val_loss: 0.3596 - val_accuracy: 0.8741\n",
            "Epoch 5/5\n",
            "100/100 [==============================] - 1s 11ms/step - loss: 0.3477 - accuracy: 0.8724 - val_loss: 0.3469 - val_accuracy: 0.8760\n"
          ],
          "name": "stdout"
        }
      ]
    },
    {
      "cell_type": "code",
      "metadata": {
        "colab": {
          "base_uri": "https://localhost:8080/"
        },
        "id": "JS6FG7M2NcTQ",
        "outputId": "7d4fced4-98b4-452f-b569-a77c569a2963"
      },
      "source": [
        "sumario_do_modelo = modelo.summary()"
      ],
      "execution_count": 43,
      "outputs": [
        {
          "output_type": "stream",
          "text": [
            "Model: \"sequential_4\"\n",
            "_________________________________________________________________\n",
            "Layer (type)                 Output Shape              Param #   \n",
            "=================================================================\n",
            "flatten_4 (Flatten)          (None, 784)               0         \n",
            "_________________________________________________________________\n",
            "dense_4 (Dense)              (None, 256)               200960    \n",
            "_________________________________________________________________\n",
            "dropout_2 (Dropout)          (None, 256)               0         \n",
            "_________________________________________________________________\n",
            "dense_5 (Dense)              (None, 10)                2570      \n",
            "=================================================================\n",
            "Total params: 203,530\n",
            "Trainable params: 203,530\n",
            "Non-trainable params: 0\n",
            "_________________________________________________________________\n"
          ],
          "name": "stdout"
        }
      ]
    },
    {
      "cell_type": "code",
      "metadata": {
        "colab": {
          "base_uri": "https://localhost:8080/"
        },
        "id": "eCdqqgEaNoOB",
        "outputId": "c9bea5da-6d9e-4e54-b242-fa2478694731"
      },
      "source": [
        "\n",
        "pesos_camada_dense = modelo.layers[1].get_weights()[0]\n",
        "pesos_camada_dense"
      ],
      "execution_count": 44,
      "outputs": [
        {
          "output_type": "execute_result",
          "data": {
            "text/plain": [
              "array([[ 0.01695699,  0.03764842,  0.05636968, ..., -0.047059  ,\n",
              "         0.0705872 , -0.05648704],\n",
              "       [ 0.02024822,  0.04542803,  0.00111013, ..., -0.00195965,\n",
              "         0.06555356, -0.11051635],\n",
              "       [-0.01311516,  0.0537962 ,  0.11231343, ..., -0.1342289 ,\n",
              "        -0.02587794, -0.01059378],\n",
              "       ...,\n",
              "       [-0.00960844,  0.08129274,  0.01256353, ..., -0.08479583,\n",
              "        -0.08852191,  0.05160288],\n",
              "       [ 0.0219935 ,  0.0936275 ,  0.02622479, ..., -0.10950109,\n",
              "        -0.15446313, -0.00063385],\n",
              "       [ 0.06972373,  0.03082039, -0.00218671, ...,  0.05564493,\n",
              "        -0.14569   , -0.05262976]], dtype=float32)"
            ]
          },
          "metadata": {
            "tags": []
          },
          "execution_count": 44
        }
      ]
    },
    {
      "cell_type": "code",
      "metadata": {
        "colab": {
          "base_uri": "https://localhost:8080/"
        },
        "id": "jUZw3L_fNr7g",
        "outputId": "f89911c1-26ef-41ab-c11d-6bdd295146e7"
      },
      "source": [
        "pesos_camada_dense.shape\n",
        "pesos_camada_dense_zerados = np.zeros((784, 256))\n",
        "\n",
        "pesos_camada_dense_aleatorios = np.random.rand(784, 256)\n",
        "\n",
        "'''\n",
        "modelo.layers[1].set_weights(\n",
        "    [pesos_camada_dense_zerados, vieses_camada_dense]\n",
        ")\n",
        "'''\n",
        "\n",
        "modelo.layers[1].set_weights(\n",
        "    [pesos_camada_dense_aleatorios, vieses_camada_dense]\n",
        ")\n",
        "\n",
        "modelo.layers[1].get_weights()"
      ],
      "execution_count": 45,
      "outputs": [
        {
          "output_type": "execute_result",
          "data": {
            "text/plain": [
              "[array([[0.01499503, 0.6826495 , 0.5473547 , ..., 0.5325045 , 0.1853444 ,\n",
              "         0.25181302],\n",
              "        [0.07399847, 0.6615446 , 0.72925687, ..., 0.5235453 , 0.73081106,\n",
              "         0.318128  ],\n",
              "        [0.84788144, 0.10982467, 0.2708756 , ..., 0.45319727, 0.510654  ,\n",
              "         0.37292904],\n",
              "        ...,\n",
              "        [0.07229425, 0.749753  , 0.04599692, ..., 0.20014666, 0.28216746,\n",
              "         0.9740557 ],\n",
              "        [0.13322762, 0.03269827, 0.19848731, ..., 0.80601984, 0.24606462,\n",
              "         0.42013875],\n",
              "        [0.10201745, 0.07635272, 0.91002846, ..., 0.5624879 , 0.82310444,\n",
              "         0.8085948 ]], dtype=float32),\n",
              " array([ 0.19818375, -0.00559823, -0.09813966, -0.21601622, -0.07214584,\n",
              "        -0.27430445,  0.2537467 ,  0.23377293,  0.24712326, -0.20516077,\n",
              "         0.2249817 ,  0.16634771, -0.05790642,  0.15405937, -0.00404959,\n",
              "         0.04929397,  0.09364319, -0.04166389, -0.01136975,  0.5309885 ,\n",
              "         0.2048036 , -0.10778983,  0.35759282, -0.02045229, -0.10372774,\n",
              "         0.30271313,  0.20964503,  0.10834278, -0.05324569,  0.1459935 ,\n",
              "        -0.17587116, -0.05417705,  0.1530951 , -0.24560323,  0.367088  ,\n",
              "         0.14064832, -0.01878189,  0.20287398,  0.204975  ,  0.17127128,\n",
              "         0.20738891,  0.41215152,  0.07219534, -0.10685869,  0.12186844,\n",
              "         0.30661094,  0.20880114, -0.01356024,  0.38366705, -0.1580823 ,\n",
              "         0.0105803 ,  0.44962806, -0.01610053,  0.15883194,  0.05756754,\n",
              "         0.06450178, -0.0107042 , -0.03430651, -0.01467452, -0.03730555,\n",
              "         0.07919269,  0.18580244,  0.0808922 , -0.01530433, -0.03082218,\n",
              "        -0.02611003, -0.23763692,  0.11057681, -0.17817202,  0.41001272,\n",
              "        -0.10121482,  0.25803772,  0.11616906,  0.12162348, -0.02807007,\n",
              "         0.29510236,  0.13788259, -0.10263954,  0.2692012 ,  0.30855685,\n",
              "         0.34554777, -0.3179984 , -0.06018294,  0.26934525, -0.03302619,\n",
              "         0.09338064, -0.12976423, -0.06295792,  0.18320699,  0.09758796,\n",
              "        -0.35174695, -0.01369765,  0.04796141,  0.07748419,  0.22274487,\n",
              "         0.04913846,  0.08944853, -0.31169704,  0.17914031, -0.2775477 ,\n",
              "        -0.17746659,  0.3638627 ,  0.01705208,  0.3134886 ,  0.24857862,\n",
              "         0.02357305,  0.26668188,  0.2676023 ,  0.08713734, -0.01381475,\n",
              "        -0.19362897, -0.01969822,  0.23494348, -0.03632641,  0.42060676,\n",
              "         0.37832212,  0.11361128,  0.09535155,  0.05994017, -0.03468534,\n",
              "         0.19304712,  0.23810212,  0.14053908,  0.45831624,  0.1748079 ,\n",
              "        -0.0365678 , -0.10043441,  0.19943076, -0.02042453,  0.22320701,\n",
              "         0.05534967,  0.18271802,  0.18019214,  0.30143276,  0.20728733,\n",
              "         0.34570792, -0.04131225, -0.00386465, -0.14188181,  0.08040717,\n",
              "         0.06199954,  0.35797876,  0.04069664, -0.01251214,  0.34863582,\n",
              "         0.09333265,  0.33793178, -0.01157919,  0.28750455, -0.08576376,\n",
              "        -0.02892194, -0.01425161,  0.33340576,  0.48505628,  0.22377695,\n",
              "         0.00273104,  0.05062919, -0.06721424,  0.20650999, -0.03499603,\n",
              "        -0.20901774,  0.32969   ,  0.36833036,  0.09575107,  0.27453047,\n",
              "         0.0919368 ,  0.30472684,  0.16167259,  0.14333746,  0.06257112,\n",
              "         0.09185614,  0.36105576,  0.13343509, -0.04877236, -0.12916078,\n",
              "         0.18588495,  0.0678592 ,  0.06169247, -0.05733695, -0.08274499,\n",
              "         0.08184084,  0.374593  ,  0.40090346,  0.13131085,  0.15628363,\n",
              "         0.13063699, -0.01739483, -0.00479232,  0.1889442 ,  0.2723691 ,\n",
              "         0.3044838 ,  0.25143918, -0.01757246,  0.14545159,  0.26785758,\n",
              "         0.08098211,  0.3161913 , -0.01890263, -0.04067162, -0.17852071,\n",
              "         0.19427925, -0.05478662, -0.01310432,  0.11223692,  0.00734108,\n",
              "         0.21019502,  0.18890567,  0.11731824,  0.0524452 ,  0.40960014,\n",
              "         0.03892824,  0.19281936, -0.01521882,  0.0686601 ,  0.22549084,\n",
              "        -0.01819343,  0.29802465,  0.03576684, -0.03332566,  0.09987934,\n",
              "        -0.15973082,  0.54963464,  0.17958815, -0.01670757,  0.30828312,\n",
              "         0.01498588,  0.30961442,  0.13808462,  0.2981221 ,  0.14768317,\n",
              "         0.11348476, -0.10838591, -0.17466804,  0.0995842 ,  0.04714594,\n",
              "         0.29828328,  0.2610283 ,  0.21747166,  0.0858869 ,  0.21519233,\n",
              "        -0.35783395,  0.08318316, -0.01812376,  0.16047326, -0.2317803 ,\n",
              "         0.22062366,  0.11894309,  0.27796736, -0.18166277,  0.30027372,\n",
              "         0.00383449,  0.01786597,  0.14088522, -0.16926903, -0.15595905,\n",
              "         0.0816255 ], dtype=float32)]"
            ]
          },
          "metadata": {
            "tags": []
          },
          "execution_count": 45
        }
      ]
    },
    {
      "cell_type": "code",
      "metadata": {
        "colab": {
          "base_uri": "https://localhost:8080/"
        },
        "id": "RH0FmvpLNuLy",
        "outputId": "fcfe945f-bc87-4b26-87a1-2d218279fd0d"
      },
      "source": [
        "modelo.compile(optimizer='adam', \n",
        "               loss='sparse_categorical_crossentropy',\n",
        "               metrics=['accuracy'])\n",
        "\n",
        "historico = modelo.fit(imagens_treino, identificacoes_treino, epochs=5, validation_split=0.2)"
      ],
      "execution_count": 46,
      "outputs": [
        {
          "output_type": "stream",
          "text": [
            "Epoch 1/5\n",
            "1500/1500 [==============================] - 4s 3ms/step - loss: 120.7729 - accuracy: 0.2894 - val_loss: 13.9453 - val_accuracy: 0.6804\n",
            "Epoch 2/5\n",
            "1500/1500 [==============================] - 4s 2ms/step - loss: 22.8821 - accuracy: 0.6033 - val_loss: 4.6565 - val_accuracy: 0.7789\n",
            "Epoch 3/5\n",
            "1500/1500 [==============================] - 4s 3ms/step - loss: 9.3181 - accuracy: 0.6705 - val_loss: 4.0080 - val_accuracy: 0.7218\n",
            "Epoch 4/5\n",
            "1500/1500 [==============================] - 4s 2ms/step - loss: 4.5139 - accuracy: 0.7015 - val_loss: 2.3248 - val_accuracy: 0.7632\n",
            "Epoch 5/5\n",
            "1500/1500 [==============================] - 4s 2ms/step - loss: 2.4950 - accuracy: 0.7298 - val_loss: 1.1563 - val_accuracy: 0.8063\n"
          ],
          "name": "stdout"
        }
      ]
    },
    {
      "cell_type": "code",
      "metadata": {
        "colab": {
          "base_uri": "https://localhost:8080/",
          "height": 231
        },
        "id": "VU2xQAJb8Z63",
        "outputId": "d20d901a-49b9-46f7-e4e3-d9dc9b521f0b"
      },
      "source": [
        "plt.plot(historico.history['acc'])\n",
        "plt.plot(historico.history['val_acc'])\n",
        "plt.title('Acurácia por épocas')\n",
        "plt.xlabel('épocas')\n",
        "plt.ylabel('acurácia')\n",
        "plt.legend(['treino', 'validação'])"
      ],
      "execution_count": 47,
      "outputs": [
        {
          "output_type": "error",
          "ename": "KeyError",
          "evalue": "ignored",
          "traceback": [
            "\u001b[0;31m---------------------------------------------------------------------------\u001b[0m",
            "\u001b[0;31mKeyError\u001b[0m                                  Traceback (most recent call last)",
            "\u001b[0;32m<ipython-input-47-2cfebbe65fbd>\u001b[0m in \u001b[0;36m<module>\u001b[0;34m()\u001b[0m\n\u001b[0;32m----> 1\u001b[0;31m \u001b[0mplt\u001b[0m\u001b[0;34m.\u001b[0m\u001b[0mplot\u001b[0m\u001b[0;34m(\u001b[0m\u001b[0mhistorico\u001b[0m\u001b[0;34m.\u001b[0m\u001b[0mhistory\u001b[0m\u001b[0;34m[\u001b[0m\u001b[0;34m'acc'\u001b[0m\u001b[0;34m]\u001b[0m\u001b[0;34m)\u001b[0m\u001b[0;34m\u001b[0m\u001b[0;34m\u001b[0m\u001b[0m\n\u001b[0m\u001b[1;32m      2\u001b[0m \u001b[0mplt\u001b[0m\u001b[0;34m.\u001b[0m\u001b[0mplot\u001b[0m\u001b[0;34m(\u001b[0m\u001b[0mhistorico\u001b[0m\u001b[0;34m.\u001b[0m\u001b[0mhistory\u001b[0m\u001b[0;34m[\u001b[0m\u001b[0;34m'val_acc'\u001b[0m\u001b[0;34m]\u001b[0m\u001b[0;34m)\u001b[0m\u001b[0;34m\u001b[0m\u001b[0;34m\u001b[0m\u001b[0m\n\u001b[1;32m      3\u001b[0m \u001b[0mplt\u001b[0m\u001b[0;34m.\u001b[0m\u001b[0mtitle\u001b[0m\u001b[0;34m(\u001b[0m\u001b[0;34m'Acurácia por épocas'\u001b[0m\u001b[0;34m)\u001b[0m\u001b[0;34m\u001b[0m\u001b[0;34m\u001b[0m\u001b[0m\n\u001b[1;32m      4\u001b[0m \u001b[0mplt\u001b[0m\u001b[0;34m.\u001b[0m\u001b[0mxlabel\u001b[0m\u001b[0;34m(\u001b[0m\u001b[0;34m'épocas'\u001b[0m\u001b[0;34m)\u001b[0m\u001b[0;34m\u001b[0m\u001b[0;34m\u001b[0m\u001b[0m\n\u001b[1;32m      5\u001b[0m \u001b[0mplt\u001b[0m\u001b[0;34m.\u001b[0m\u001b[0mylabel\u001b[0m\u001b[0;34m(\u001b[0m\u001b[0;34m'acurácia'\u001b[0m\u001b[0;34m)\u001b[0m\u001b[0;34m\u001b[0m\u001b[0;34m\u001b[0m\u001b[0m\n",
            "\u001b[0;31mKeyError\u001b[0m: 'acc'"
          ]
        }
      ]
    },
    {
      "cell_type": "code",
      "metadata": {
        "id": "ELJPglPH8byF"
      },
      "source": [
        "plt.plot(historico.history['acc'])\n",
        "plt.plot(historico.history['val_acc'])\n",
        "plt.title('Acurácia por épocas')\n",
        "plt.xlabel('épocas')\n",
        "plt.ylabel('acurácia')\n",
        "plt.legend(['treino', 'validação'])"
      ],
      "execution_count": null,
      "outputs": []
    },
    {
      "cell_type": "code",
      "metadata": {
        "id": "JcL8ubO68idV"
      },
      "source": [
        "modelo.get_config()"
      ],
      "execution_count": null,
      "outputs": []
    },
    {
      "cell_type": "code",
      "metadata": {
        "id": "uqiiPNmE8jr8"
      },
      "source": [
        "plt.plot(historico.history['loss'])\n",
        "plt.plot(historico.history['val_loss'])\n",
        "plt.title('Perda por épocas')\n",
        "plt.xlabel('épocas')\n",
        "plt.ylabel('perda')\n",
        "plt.legend(['treino', 'validação'])"
      ],
      "execution_count": null,
      "outputs": []
    },
    {
      "cell_type": "code",
      "metadata": {
        "id": "sVKjmbot8lqE"
      },
      "source": [
        "vieses_camada_dense = modelo.layers[1].get_weights()[1]\n",
        "vieses_camada_dense.shape"
      ],
      "execution_count": null,
      "outputs": []
    },
    {
      "cell_type": "code",
      "metadata": {
        "id": "EJ1mnUETMUxU"
      },
      "source": [
        "vieses_camada_dense_zerados = np.zeros((256,))\n",
        "modelo.layers[1].set_weights(\n",
        "    [pesos_camada_dense_aleatorios, vieses_camada_dense_zerados]\n",
        ")"
      ],
      "execution_count": null,
      "outputs": []
    },
    {
      "cell_type": "code",
      "metadata": {
        "id": "wELsYiX3N-6h"
      },
      "source": [
        "\n",
        "modelo.save('modelo.h5')\n",
        "modelo_salvo = load_model('modelo.h5')"
      ],
      "execution_count": null,
      "outputs": []
    },
    {
      "cell_type": "code",
      "metadata": {
        "id": "G5v6IuwzOAz1"
      },
      "source": [
        "plt.plot(historico.history['acc'])\n",
        "plt.plot(historico.history['val_acc'])\n",
        "plt.title('Acurácia por épocas')\n",
        "plt.xlabel('épocas')\n",
        "plt.ylabel('acurácia')\n",
        "plt.legend(['treino', 'validação'])"
      ],
      "execution_count": null,
      "outputs": []
    },
    {
      "cell_type": "code",
      "metadata": {
        "id": "DDdEP8nDOCmJ"
      },
      "source": [
        "plt.plot(historico.history['loss'])\n",
        "plt.plot(historico.history['val_loss'])\n",
        "plt.title('Perda por épocas')\n",
        "plt.xlabel('épocas')\n",
        "plt.ylabel('perda')\n",
        "plt.legend(['treino', 'validação'])"
      ],
      "execution_count": null,
      "outputs": []
    },
    {
      "cell_type": "code",
      "metadata": {
        "id": "7wyVXACDODVZ"
      },
      "source": [
        "testes = modelo.predict(imagens_teste)\n",
        "print('resultado teste:', np.argmax(testes[1]))\n",
        "print('número da imagem de teste:', identificacoes_teste[1])\n",
        "\n",
        "testes_modelo_salvo = modelo_salvo.predict(imagens_teste)\n",
        "print('resultado teste modelo salvo:', np.argmax(testes_modelo_salvo[1]))\n",
        "print('número da imagem de teste:', identificacoes_teste[1])"
      ],
      "execution_count": null,
      "outputs": []
    },
    {
      "cell_type": "code",
      "metadata": {
        "id": "U2OAsIRnOE9A"
      },
      "source": [
        "\n",
        "perda_teste, acuracia_teste = modelo.evaluate(imagens_teste, identificacoes_teste)\n",
        "print('Perda do teste:', perda_teste)\n",
        "print('Acurácia do teste:', acuracia_teste)"
      ],
      "execution_count": null,
      "outputs": []
    }
  ]
}